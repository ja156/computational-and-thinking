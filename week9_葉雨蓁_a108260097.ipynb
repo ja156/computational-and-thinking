{
  "nbformat": 4,
  "nbformat_minor": 0,
  "metadata": {
    "colab": {
      "name": "week9-葉雨蓁-a108260097.ipynb",
      "provenance": [],
      "include_colab_link": true
    },
    "kernelspec": {
      "name": "python3",
      "display_name": "Python 3"
    }
  },
  "cells": [
    {
      "cell_type": "markdown",
      "metadata": {
        "id": "view-in-github",
        "colab_type": "text"
      },
      "source": [
        "<a href=\"https://colab.research.google.com/github/ja156/computational-and-thinking/blob/master/week9_%E8%91%89%E9%9B%A8%E8%93%81_a108260097.ipynb\" target=\"_parent\"><img src=\"https://colab.research.google.com/assets/colab-badge.svg\" alt=\"Open In Colab\"/></a>"
      ]
    },
    {
      "cell_type": "code",
      "metadata": {
        "id": "f56QcsxOiiPB",
        "colab_type": "code",
        "colab": {
          "base_uri": "https://localhost:8080/",
          "height": 51
        },
        "outputId": "7a9f89ab-fd87-49c3-eb90-3383b1e533ba"
      },
      "source": [
        "score=int(input(\"請輸入一個成績\"))\n",
        "if score>=60:\n",
        "  print(\"很好\")"
      ],
      "execution_count": 1,
      "outputs": [
        {
          "output_type": "stream",
          "text": [
            "請輸入一個成績60\n",
            "很好\n"
          ],
          "name": "stdout"
        }
      ]
    },
    {
      "cell_type": "code",
      "metadata": {
        "id": "7l1OdldNi4Rn",
        "colab_type": "code",
        "colab": {
          "base_uri": "https://localhost:8080/",
          "height": 51
        },
        "outputId": "68b58f66-41dc-4780-bc7a-fd5ca0870b27"
      },
      "source": [
        "cost=int(input(\"請輸入購買金額?\"))\n",
        "if cost>=2000:\n",
        "  print(cost*0.9)\n",
        "else:\n",
        "    print(cost)"
      ],
      "execution_count": 3,
      "outputs": [
        {
          "output_type": "stream",
          "text": [
            "請輸入購買金額?2000\n",
            "1800.0\n"
          ],
          "name": "stdout"
        }
      ]
    },
    {
      "cell_type": "code",
      "metadata": {
        "id": "1H-joNNtjdmW",
        "colab_type": "code",
        "colab": {
          "base_uri": "https://localhost:8080/",
          "height": 51
        },
        "outputId": "83012697-4477-434b-be3a-fe0a8575d87c"
      },
      "source": [
        "num=int(input(\"請輸入一個整數?\"))\n",
        "if num%2:\n",
        "  print(num,\"為奇數\")\n",
        "else:\n",
        "  prinnt(nunm,\"為偶數\")"
      ],
      "execution_count": 4,
      "outputs": [
        {
          "output_type": "stream",
          "text": [
            "請輸入一個整數?13\n",
            "13 為奇數\n"
          ],
          "name": "stdout"
        }
      ]
    },
    {
      "cell_type": "code",
      "metadata": {
        "id": "LB6QlpZSkxjJ",
        "colab_type": "code",
        "colab": {}
      },
      "source": [
        ""
      ],
      "execution_count": 0,
      "outputs": []
    }
  ]
}