{
  "nbformat": 4,
  "nbformat_minor": 0,
  "metadata": {
    "colab": {
      "name": "Untitled0.ipynb",
      "provenance": [],
      "include_colab_link": true
    },
    "kernelspec": {
      "name": "python3",
      "display_name": "Python 3"
    }
  },
  "cells": [
    {
      "cell_type": "markdown",
      "metadata": {
        "id": "view-in-github",
        "colab_type": "text"
      },
      "source": [
        "<a href=\"https://colab.research.google.com/github/ja156/computational-and-thinking/blob/master/Untitled0.ipynb\" target=\"_parent\"><img src=\"https://colab.research.google.com/assets/colab-badge.svg\" alt=\"Open In Colab\"/></a>"
      ]
    },
    {
      "cell_type": "code",
      "metadata": {
        "id": "fr0bX-4fJf3L",
        "colab_type": "code",
        "colab": {
          "base_uri": "https://localhost:8080/",
          "height": 102
        },
        "outputId": "0007663d-06ef-4b4f-b531-2b671fa200bb"
      },
      "source": [
        "q=int(input(\"請輸入第一次期中考成績\"))\n",
        "\n",
        "w=int(input(\"請輸入期中考成績\"))\n",
        "\n",
        "e=int(input(\"請輸入期末考成績\"))\n",
        "\n",
        "平均=(q+w+e)/3\n",
        "\n",
        "總分=(q+w+e)\n",
        "\n",
        "print(\"總分為\",總分)\n",
        "\n",
        "print(\"平均為\",平均)"
      ],
      "execution_count": 27,
      "outputs": [
        {
          "output_type": "stream",
          "text": [
            "請輸入第一次期中考成績75\n",
            "請輸入期中考成績80\n",
            "請輸入期末考成績65\n",
            "總分為 220\n",
            "平均為 73.33333333333333\n"
          ],
          "name": "stdout"
        }
      ]
    },
    {
      "cell_type": "code",
      "metadata": {
        "id": "TWAb8zoWXMH2",
        "colab_type": "code",
        "colab": {
          "base_uri": "https://localhost:8080/",
          "height": 68
        },
        "outputId": "860333c9-0144-4848-a97c-70d499468e23"
      },
      "source": [
        "q=int(input(\"請輸入幾尺?\"))\n",
        "\n",
        "w=int(input(\"請輸入幾吋?\"))\n",
        "\n",
        "r=(q*12+w)*2.54\n",
        "\n",
        "print(\"轉換成公分\",r)"
      ],
      "execution_count": 38,
      "outputs": [
        {
          "output_type": "stream",
          "text": [
            "請輸入幾尺?5\n",
            "請輸入幾吋?8\n",
            "轉換成公分 172.72\n"
          ],
          "name": "stdout"
        }
      ]
    },
    {
      "cell_type": "code",
      "metadata": {
        "id": "e1IKg-mZfD7t",
        "colab_type": "code",
        "colab": {}
      },
      "source": [
        ""
      ],
      "execution_count": 0,
      "outputs": []
    }
  ]
}