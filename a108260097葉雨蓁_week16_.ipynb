{
  "nbformat": 4,
  "nbformat_minor": 0,
  "metadata": {
    "colab": {
      "name": "a108260097葉雨蓁 week16 .ipynb",
      "provenance": [],
      "include_colab_link": true
    },
    "kernelspec": {
      "name": "python3",
      "display_name": "Python 3"
    }
  },
  "cells": [
    {
      "cell_type": "markdown",
      "metadata": {
        "id": "view-in-github",
        "colab_type": "text"
      },
      "source": [
        "<a href=\"https://colab.research.google.com/github/ja156/computational-and-thinking/blob/master/a108260097%E8%91%89%E9%9B%A8%E8%93%81_week16_.ipynb\" target=\"_parent\"><img src=\"https://colab.research.google.com/assets/colab-badge.svg\" alt=\"Open In Colab\"/></a>"
      ]
    },
    {
      "cell_type": "code",
      "metadata": {
        "id": "PM1gsn8WppTN",
        "colab_type": "code",
        "colab": {
          "base_uri": "https://localhost:8080/",
          "height": 51
        },
        "outputId": "da22f6d4-c242-4554-d792-bda1cc4c3344"
      },
      "source": [
        "answer = \"b246\"\n",
        "while True:\n",
        "  password=input(\"Enter your password?\")\n",
        "  if password==answer:\n",
        "    print(\"ENTER THE SYSTEM\")\n",
        "    break\n",
        "  else:\n",
        "    print(\"Try Again\")"
      ],
      "execution_count": 6,
      "outputs": [
        {
          "output_type": "stream",
          "text": [
            "Enter your password?b246\n",
            "ENTER THE SYSTEM\n"
          ],
          "name": "stdout"
        }
      ]
    },
    {
      "cell_type": "code",
      "metadata": {
        "id": "m4t1UGORzt0Q",
        "colab_type": "code",
        "colab": {
          "base_uri": "https://localhost:8080/",
          "height": 138
        },
        "outputId": "3f4ab214-9aec-4ed8-eac2-a4061d80814c"
      },
      "source": [
        "while True:\n",
        " acc = input('請輸入帳號?')\n",
        " pwd = input('請輸入密碼?')\n",
        " if (acc == 'abc' and pwd == '123'):\n",
        "    print('帳號與密碼正確')\n",
        "    break\n",
        " else:\n",
        "    print('登入失敗')"
      ],
      "execution_count": 0,
      "outputs": [
        {
          "output_type": "stream",
          "text": [
            "請輸入帳號?123\n",
            "請輸入密碼?456\n",
            "登入失敗\n",
            "請輸入帳號?123456\n",
            "請輸入密碼?123456\n",
            "登入失敗\n"
          ],
          "name": "stdout"
        }
      ]
    },
    {
      "cell_type": "code",
      "metadata": {
        "id": "DGqcDiwF1BT6",
        "colab_type": "code",
        "colab": {}
      },
      "source": [
        ""
      ],
      "execution_count": 0,
      "outputs": []
    }
  ]
}